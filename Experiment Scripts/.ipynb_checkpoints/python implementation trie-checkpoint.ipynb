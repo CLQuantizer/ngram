{
 "cells": [
  {
   "cell_type": "code",
   "execution_count": 92,
   "metadata": {},
   "outputs": [],
   "source": [
    "import numpy as np"
   ]
  },
  {
   "cell_type": "code",
   "execution_count": 272,
   "metadata": {},
   "outputs": [],
   "source": [
    "s1 = [\n",
    "    \n",
    "    ['how','are','you'],\n",
    "    ['how','are','you'],['how','are','you'],['how','are','you'],['how','are','you'],['how','are','you'],['how','are','you'],['how','are','you'],['how','are','you'],['how','are','you'],['how','are','you'],['how','are','you','jj'],['how','are','f'],\n",
    "    ['how','are','things'],\n",
    "    ['what','is','wrong'],\n",
    "]"
   ]
  },
  {
   "cell_type": "code",
   "execution_count": 273,
   "metadata": {},
   "outputs": [
    {
     "name": "stdout",
     "output_type": "stream",
     "text": [
      "15\n"
     ]
    }
   ],
   "source": [
    "print(len(s1))"
   ]
  },
  {
   "cell_type": "code",
   "execution_count": 274,
   "metadata": {},
   "outputs": [],
   "source": [
    "    count_sign = '__COUNT__'"
   ]
  },
  {
   "cell_type": "code",
   "execution_count": 275,
   "metadata": {},
   "outputs": [],
   "source": [
    "def single_pass_trigram_count(sentence_list):\n",
    "    \"\"\"\n",
    "    Creates the Ngram count matrix from the input corpus in a single pass through the corpus.\n",
    "    Args:\n",
    "        corpus: Pre-processed and tokenized corpus. \n",
    "        \n",
    "    Returns:\n",
    "       trie\n",
    "    \"\"\"\n",
    "    vocabulary = []\n",
    "    trie = {}\n",
    "\n",
    "    \n",
    "    for sentid, each in enumerate(sentence_list):\n",
    "        if len(each)<2:\n",
    "            continue\n",
    "            \n",
    "        assert type(each)==list \n",
    "    # Pad each sentence with N-1 starting token <s> at the beginning and one end token </s> at last. \n",
    "        padded_sentence = ['<s>' for _ in range(3-1)] + each + ['</s>']\n",
    "\n",
    "    # go through the sentence once with a sliding window of size N\n",
    "        for i in range(len(padded_sentence) - 3 + 1):\n",
    "        # the sliding window starts at position i and contains N words\n",
    "            trigram = padded_sentence[i : i + 3]\n",
    "            print(trigram)\n",
    "            Node0 = trigram[0]\n",
    "            Node1 = trigram[1]\n",
    "            Node2 = trigram[2]\n",
    "            \n",
    "            if Node0 not in trie.keys():\n",
    "                trie[Node0] = {count_sign:1}\n",
    "            else:\n",
    "                trie[Node0][count_sign]+=1\n",
    "                \n",
    "            if Node1 not in trie[Node0].keys():\n",
    "                trie[Node0][Node1] = {count_sign:1}\n",
    "            else:\n",
    "                trie[Node0][Node1][count_sign]+=1\n",
    "                \n",
    "            if Node2 not in trie[Node0][Node1].keys():\n",
    "                trie[Node0][Node1][Node2] = {count_sign:1}\n",
    "            else:\n",
    "                trie[Node0][Node1][Node2][count_sign]+=1\n",
    "\n",
    "        #  Checkpoint\n",
    "        if sentid>0 and sentid%5000==0:\n",
    "            print(f'{sentid} sentences have been processed. Now we\\'re at {padded_sentence}.')\n",
    "            print(f'There are now {len(trie)} vocabs in the dictionary.')\n",
    "        if sentid==(len(sentence_list)-1):\n",
    "            print(f'---------------------------Single pass for trigram finished!----------------------------------')\n",
    "    \n",
    "    return trie"
   ]
  },
  {
   "cell_type": "code",
   "execution_count": 276,
   "metadata": {},
   "outputs": [
    {
     "name": "stdout",
     "output_type": "stream",
     "text": [
      "['<s>', '<s>', 'how']\n",
      "['<s>', 'how', 'are']\n",
      "['how', 'are', 'you']\n",
      "['are', 'you', '</s>']\n",
      "['<s>', '<s>', 'how']\n",
      "['<s>', 'how', 'are']\n",
      "['how', 'are', 'you']\n",
      "['are', 'you', '</s>']\n",
      "['<s>', '<s>', 'how']\n",
      "['<s>', 'how', 'are']\n",
      "['how', 'are', 'you']\n",
      "['are', 'you', '</s>']\n",
      "['<s>', '<s>', 'how']\n",
      "['<s>', 'how', 'are']\n",
      "['how', 'are', 'you']\n",
      "['are', 'you', '</s>']\n",
      "['<s>', '<s>', 'how']\n",
      "['<s>', 'how', 'are']\n",
      "['how', 'are', 'you']\n",
      "['are', 'you', '</s>']\n",
      "['<s>', '<s>', 'how']\n",
      "['<s>', 'how', 'are']\n",
      "['how', 'are', 'you']\n",
      "['are', 'you', '</s>']\n",
      "['<s>', '<s>', 'how']\n",
      "['<s>', 'how', 'are']\n",
      "['how', 'are', 'you']\n",
      "['are', 'you', '</s>']\n",
      "['<s>', '<s>', 'how']\n",
      "['<s>', 'how', 'are']\n",
      "['how', 'are', 'you']\n",
      "['are', 'you', '</s>']\n",
      "['<s>', '<s>', 'how']\n",
      "['<s>', 'how', 'are']\n",
      "['how', 'are', 'you']\n",
      "['are', 'you', '</s>']\n",
      "['<s>', '<s>', 'how']\n",
      "['<s>', 'how', 'are']\n",
      "['how', 'are', 'you']\n",
      "['are', 'you', '</s>']\n",
      "['<s>', '<s>', 'how']\n",
      "['<s>', 'how', 'are']\n",
      "['how', 'are', 'you']\n",
      "['are', 'you', '</s>']\n",
      "['<s>', '<s>', 'how']\n",
      "['<s>', 'how', 'are']\n",
      "['how', 'are', 'you']\n",
      "['are', 'you', 'jj']\n",
      "['you', 'jj', '</s>']\n",
      "['<s>', '<s>', 'how']\n",
      "['<s>', 'how', 'are']\n",
      "['how', 'are', 'f']\n",
      "['are', 'f', '</s>']\n",
      "['<s>', '<s>', 'how']\n",
      "['<s>', 'how', 'are']\n",
      "['how', 'are', 'things']\n",
      "['are', 'things', '</s>']\n",
      "['<s>', '<s>', 'what']\n",
      "['<s>', 'what', 'is']\n",
      "['what', 'is', 'wrong']\n",
      "['is', 'wrong', '</s>']\n",
      "---------------------------Single pass for trigram finished!----------------------------------\n"
     ]
    }
   ],
   "source": [
    "root = single_pass_trigram_count(s1)"
   ]
  },
  {
   "cell_type": "markdown",
   "metadata": {},
   "source": [
    "## verify the implementation"
   ]
  },
  {
   "cell_type": "code",
   "execution_count": 277,
   "metadata": {},
   "outputs": [
    {
     "name": "stdout",
     "output_type": "stream",
     "text": [
      "<s>\n",
      "how\n",
      "are\n",
      "you\n",
      "what\n",
      "is\n"
     ]
    }
   ],
   "source": [
    "for key in root.keys():\n",
    "    print(key)"
   ]
  },
  {
   "cell_type": "code",
   "execution_count": 278,
   "metadata": {},
   "outputs": [
    {
     "name": "stdout",
     "output_type": "stream",
     "text": [
      "<s> _______ 30\n",
      "how _______ 14\n",
      "are _______ 14\n",
      "you _______ 1\n",
      "what _______ 1\n",
      "is _______ 1\n"
     ]
    }
   ],
   "source": [
    "for key in root.keys():\n",
    "    if key!=count_sign and len(root[key])>1:\n",
    "        print(key,'_______',root[key][count_sign])\n"
   ]
  },
  {
   "cell_type": "code",
   "execution_count": 279,
   "metadata": {},
   "outputs": [
    {
     "name": "stdout",
     "output_type": "stream",
     "text": [
      "<s> ________ 15\n",
      "how ________ 14\n",
      "what ________ 1\n",
      "are ________ 14\n",
      "you ________ 12\n",
      "f ________ 1\n",
      "things ________ 1\n",
      "jj ________ 1\n",
      "is ________ 1\n",
      "wrong ________ 1\n"
     ]
    }
   ],
   "source": [
    "# verify the second layer\n",
    "for key in root.keys():\n",
    "    if key!=count_sign and len(root[key])>1:\n",
    "        for nextkey in root[key].keys():\n",
    "            if nextkey!=count_sign and len(root[key][nextkey])>1:\n",
    "                print(nextkey,'________',root[key][nextkey][count_sign])"
   ]
  },
  {
   "cell_type": "code",
   "execution_count": 280,
   "metadata": {},
   "outputs": [
    {
     "name": "stdout",
     "output_type": "stream",
     "text": [
      "how ________ {'__COUNT__': 14}\n",
      "what ________ {'__COUNT__': 1}\n",
      "are ________ {'__COUNT__': 14}\n",
      "is ________ {'__COUNT__': 1}\n",
      "you ________ {'__COUNT__': 12}\n",
      "f ________ {'__COUNT__': 1}\n",
      "things ________ {'__COUNT__': 1}\n",
      "</s> ________ {'__COUNT__': 11}\n",
      "jj ________ {'__COUNT__': 1}\n",
      "</s> ________ {'__COUNT__': 1}\n",
      "</s> ________ {'__COUNT__': 1}\n",
      "</s> ________ {'__COUNT__': 1}\n",
      "wrong ________ {'__COUNT__': 1}\n",
      "</s> ________ {'__COUNT__': 1}\n"
     ]
    }
   ],
   "source": [
    "# verify the tree\n",
    "for key in root.keys():\n",
    "    if key!=count_sign and len(root[key])>1:\n",
    "        for nextkey in root[key].keys():\n",
    "            if nextkey!=count_sign and len(root[key][nextkey])>1:\n",
    "                for lastkey in root[key][nextkey].keys():\n",
    "                    if lastkey!=count_sign:\n",
    "                        print(lastkey,'________',root[key][nextkey][lastkey])\n"
   ]
  },
  {
   "cell_type": "markdown",
   "metadata": {},
   "source": [
    "# Smoothing and things"
   ]
  },
  {
   "cell_type": "code",
   "execution_count": 281,
   "metadata": {},
   "outputs": [],
   "source": [
    "def Assign_prob_trigram(trigram, trie):\n",
    "    \n",
    "    def in_trie(word, trie):\n",
    "        for key in trie.keys():\n",
    "            if key == word:\n",
    "                return word\n",
    "        return False\n",
    "        \n",
    "        \n",
    "    first = trigram[0]\n",
    "    second = trigram[1]\n",
    "    third = trigram[-1]\n",
    "    \n",
    "    vocab_size = len(trie)\n",
    "    \n",
    "    C0 = 1\n",
    "    for key in trie.keys():\n",
    "        C0 += (trie[key][count_sign]==1)\n",
    "    unk0 = C0/vocab_size\n",
    "    index0 = in_trie(first, trie)\n",
    "    if not index0:\n",
    "#         print('not in', 2*np.log(0.4 * unk0) + np.log(unk0))\n",
    "        return 2*np.log(0.4 * unk0) + np.log(unk0)\n",
    "    else:\n",
    "#         print(index0, \" is in trie\")\n",
    "        index1 = in_trie(second, trie[index0])\n",
    "        if not index1:\n",
    "#             apply smoothing\n",
    "            C1 = 1\n",
    "            for key in trie[index0].keys():\n",
    "                if key!= count_sign:\n",
    "                    C1 += (trie[index0][key][count_sign]==1)\n",
    "            unk1 = C1/vocab_size\n",
    "    \n",
    "            backup_prob = np.log(unk1) + np.log(0.4* unk0)\n",
    "            return backup_prob\n",
    "        else:\n",
    "#             print(index1, \" is in trie\")\n",
    "            index2 = in_trie(third, trie[index0][index1])\n",
    "            if not index2:\n",
    "                #             apply smoothing\n",
    "                C2 = 1\n",
    "                for key in trie[index0][index1].keys():\n",
    "                    if key!= count_sign:\n",
    "                        C2 += (trie[index0][index1][key][count_sign]==1)\n",
    "                unk2 = C2/vocab_size\n",
    "                smoothed_prob = np.log(unk2)\n",
    "                return smoothed_prob\n",
    "            else:\n",
    "                self_count = trie[index0][index1][index2][count_sign]\n",
    "                parent_count =  trie[index0][index1][count_sign]\n",
    "                return np.log(self_count/parent_count)\n",
    "    \n",
    "\n"
   ]
  },
  {
   "cell_type": "code",
   "execution_count": 282,
   "metadata": {},
   "outputs": [],
   "source": [
    "def AssignProbSent(sentence, trie): \n",
    "    padded_sentence = ['<s>']*2 + sentence + ['</s>']\n",
    "    #sliding through each word\n",
    "    log_prob_array = []\n",
    "    for i in range(len(padded_sentence) - 3 + 1):\n",
    "     \n",
    "        trigram = padded_sentence[i:i+3]\n",
    "\n",
    "        if i == 0:\n",
    "            log_prob = Assign_prob_trigram(trigram,trie)\n",
    "            log_prob_array.append(log_prob)\n",
    "#             print(f'length is {len(log_prob_array)}')\n",
    "#             print(log_prob_array[-1])\n",
    "        else:\n",
    "#             print(trigram)\n",
    "            log_prob = Assign_prob_trigram(trigram, trie)\n",
    "            prev_log_prob = log_prob_array[-1]\n",
    "            log_prob_array.append(log_prob+prev_log_prob)\n",
    "    return log_prob_array"
   ]
  },
  {
   "cell_type": "code",
   "execution_count": 283,
   "metadata": {},
   "outputs": [
    {
     "name": "stdout",
     "output_type": "stream",
     "text": [
      "['<s>', 'fdf', 'how']\n",
      "['fdf', 'how', 'are']\n",
      "['how', 'are', 'sdasdasdsad']\n",
      "['are', 'sdasdasdsad', 'you']\n",
      "['sdasdasdsad', 'you', 'are']\n",
      "['you', 'are', 'you']\n",
      "['are', 'you', 'are']\n",
      "['you', 'are', 'you']\n",
      "['are', 'you', 'are']\n",
      "['you', 'are', 'you']\n",
      "['are', 'you', '</s>']\n"
     ]
    },
    {
     "data": {
      "text/plain": [
       "[-1.0986122886681098,\n",
       " -3.518980417318539,\n",
       " -6.567957205391343,\n",
       " -7.261104385951288,\n",
       " -9.276007406493553,\n",
       " -12.324984194566357,\n",
       " -14.745352323216785,\n",
       " -15.843964611884894,\n",
       " -18.264332740535323,\n",
       " -19.362945029203434,\n",
       " -21.783313157853865,\n",
       " -21.870324534843494]"
      ]
     },
     "execution_count": 283,
     "metadata": {},
     "output_type": "execute_result"
    }
   ],
   "source": [
    "AssignProbSent(['fdf','how','are','sdasdasdsad','you','are','you','are','you','are','you'],root)"
   ]
  },
  {
   "cell_type": "code",
   "execution_count": 252,
   "metadata": {},
   "outputs": [
    {
     "data": {
      "text/plain": [
       "-1.6094379124341003"
      ]
     },
     "execution_count": 252,
     "metadata": {},
     "output_type": "execute_result"
    }
   ],
   "source": [
    "Assign_prob_trigram(['are','you','are'],root)"
   ]
  },
  {
   "cell_type": "code",
   "execution_count": 253,
   "metadata": {},
   "outputs": [
    {
     "data": {
      "text/plain": [
       "-0.916290731874155"
      ]
     },
     "execution_count": 253,
     "metadata": {},
     "output_type": "execute_result"
    }
   ],
   "source": [
    "Assign_prob_trigram(['how','are','ou'],root)"
   ]
  },
  {
   "cell_type": "code",
   "execution_count": 254,
   "metadata": {},
   "outputs": [
    {
     "data": {
      "text/plain": [
       "-3.036554268074246"
      ]
     },
     "execution_count": 254,
     "metadata": {},
     "output_type": "execute_result"
    }
   ],
   "source": [
    "Assign_prob_trigram(['how','d','you'],root)"
   ]
  },
  {
   "cell_type": "code",
   "execution_count": 255,
   "metadata": {},
   "outputs": [
    {
     "data": {
      "text/plain": [
       "-3.3650583350462826"
      ]
     },
     "execution_count": 255,
     "metadata": {},
     "output_type": "execute_result"
    }
   ],
   "source": [
    "Assign_prob_trigram(['w','df','ff'],root)"
   ]
  },
  {
   "cell_type": "code",
   "execution_count": null,
   "metadata": {},
   "outputs": [],
   "source": []
  },
  {
   "cell_type": "code",
   "execution_count": null,
   "metadata": {},
   "outputs": [],
   "source": []
  },
  {
   "cell_type": "code",
   "execution_count": null,
   "metadata": {},
   "outputs": [],
   "source": []
  },
  {
   "cell_type": "code",
   "execution_count": null,
   "metadata": {},
   "outputs": [],
   "source": []
  }
 ],
 "metadata": {
  "kernelspec": {
   "display_name": "Python 3",
   "language": "python",
   "name": "python3"
  },
  "language_info": {
   "codemirror_mode": {
    "name": "ipython",
    "version": 3
   },
   "file_extension": ".py",
   "mimetype": "text/x-python",
   "name": "python",
   "nbconvert_exporter": "python",
   "pygments_lexer": "ipython3",
   "version": "3.6.9"
  }
 },
 "nbformat": 4,
 "nbformat_minor": 4
}
